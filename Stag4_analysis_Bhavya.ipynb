{
 "cells": [
  {
   "cell_type": "markdown",
   "metadata": {
    "kernel": "SoS"
   },
   "source": [
    "# Welcome to Pollyglot Notebook."
   ]
  },
  {
   "cell_type": "code",
   "execution_count": 24,
   "metadata": {
    "kernel": "Python3"
   },
   "outputs": [
    {
     "data": {
      "text/html": [
       "<div>\n",
       "<style scoped>\n",
       "    .dataframe tbody tr th:only-of-type {\n",
       "        vertical-align: middle;\n",
       "    }\n",
       "\n",
       "    .dataframe tbody tr th {\n",
       "        vertical-align: top;\n",
       "    }\n",
       "\n",
       "    .dataframe thead th {\n",
       "        text-align: right;\n",
       "    }\n",
       "</style>\n",
       "<table border=\"1\" class=\"dataframe\">\n",
       "  <thead>\n",
       "    <tr style=\"text-align: right;\">\n",
       "      <th></th>\n",
       "      <th>PubMed ID</th>\n",
       "      <th>Population</th>\n",
       "      <th>Sub-Population (if any)</th>\n",
       "      <th>dbSNP</th>\n",
       "      <th>HGVS NM</th>\n",
       "      <th>HGVS NP</th>\n",
       "      <th>Nucleotide Change</th>\n",
       "      <th>Protein Change</th>\n",
       "      <th>Ref</th>\n",
       "      <th>Alt</th>\n",
       "      <th>Frequency (Ref)</th>\n",
       "      <th>Frequency (Alt)</th>\n",
       "      <th>Additional Comments</th>\n",
       "      <th>Curator</th>\n",
       "      <th>Unnamed: 14</th>\n",
       "      <th>Unnamed: 15</th>\n",
       "      <th>Unnamed: 16</th>\n",
       "      <th>Unnamed: 17</th>\n",
       "    </tr>\n",
       "  </thead>\n",
       "  <tbody>\n",
       "    <tr>\n",
       "      <th>0</th>\n",
       "      <td>34393998</td>\n",
       "      <td>Africa</td>\n",
       "      <td>Tunisia</td>\n",
       "      <td>rs1800574</td>\n",
       "      <td>NaN</td>\n",
       "      <td>NaN</td>\n",
       "      <td>c.710A&gt;G</td>\n",
       "      <td>NaN</td>\n",
       "      <td>C</td>\n",
       "      <td>T</td>\n",
       "      <td>0.9906</td>\n",
       "      <td>0.0094</td>\n",
       "      <td>NaN</td>\n",
       "      <td>Rachna</td>\n",
       "      <td>NaN</td>\n",
       "      <td>NaN</td>\n",
       "      <td>NaN</td>\n",
       "      <td>NaN</td>\n",
       "    </tr>\n",
       "    <tr>\n",
       "      <th>1</th>\n",
       "      <td>34393998</td>\n",
       "      <td>Africa</td>\n",
       "      <td>Tunisia</td>\n",
       "      <td>rs1172328722</td>\n",
       "      <td>NaN</td>\n",
       "      <td>NaN</td>\n",
       "      <td>c.476G&gt;A</td>\n",
       "      <td>NaN</td>\n",
       "      <td>G</td>\n",
       "      <td>A</td>\n",
       "      <td>1</td>\n",
       "      <td>0</td>\n",
       "      <td>NaN</td>\n",
       "      <td>Rachna</td>\n",
       "      <td>NaN</td>\n",
       "      <td>NaN</td>\n",
       "      <td>NaN</td>\n",
       "      <td>NaN</td>\n",
       "    </tr>\n",
       "    <tr>\n",
       "      <th>2</th>\n",
       "      <td>34393998</td>\n",
       "      <td>Africa</td>\n",
       "      <td>Tunisia</td>\n",
       "      <td>NaN</td>\n",
       "      <td>NaN</td>\n",
       "      <td>NaN</td>\n",
       "      <td>c.710A&gt;G</td>\n",
       "      <td>NaN</td>\n",
       "      <td>NaN</td>\n",
       "      <td>NaN</td>\n",
       "      <td>NaN</td>\n",
       "      <td>NaN</td>\n",
       "      <td>rs id not found</td>\n",
       "      <td>Rachna</td>\n",
       "      <td>NaN</td>\n",
       "      <td>NaN</td>\n",
       "      <td>NaN</td>\n",
       "      <td>NaN</td>\n",
       "    </tr>\n",
       "    <tr>\n",
       "      <th>3</th>\n",
       "      <td>34373539</td>\n",
       "      <td>East Asia</td>\n",
       "      <td>Kuwait</td>\n",
       "      <td>rs587776825</td>\n",
       "      <td>NaN</td>\n",
       "      <td>NaN</td>\n",
       "      <td>c.872dupC</td>\n",
       "      <td>NaN</td>\n",
       "      <td>duplication event</td>\n",
       "      <td>NaN</td>\n",
       "      <td>1</td>\n",
       "      <td>0</td>\n",
       "      <td>NaN</td>\n",
       "      <td>Rachna</td>\n",
       "      <td>NaN</td>\n",
       "      <td>NaN</td>\n",
       "      <td>NaN</td>\n",
       "      <td>NaN</td>\n",
       "    </tr>\n",
       "    <tr>\n",
       "      <th>4</th>\n",
       "      <td>34373539</td>\n",
       "      <td>NaN</td>\n",
       "      <td>NaN</td>\n",
       "      <td>NaN</td>\n",
       "      <td>NaN</td>\n",
       "      <td>NaN</td>\n",
       "      <td>c.8C &gt; A</td>\n",
       "      <td>NaN</td>\n",
       "      <td>NaN</td>\n",
       "      <td>NaN</td>\n",
       "      <td>NaN</td>\n",
       "      <td>NaN</td>\n",
       "      <td>rs id not found</td>\n",
       "      <td>Rachna</td>\n",
       "      <td>NaN</td>\n",
       "      <td>NaN</td>\n",
       "      <td>NaN</td>\n",
       "      <td>NaN</td>\n",
       "    </tr>\n",
       "  </tbody>\n",
       "</table>\n",
       "</div>"
      ],
      "text/plain": [
       "  PubMed ID Population  Sub-Population (if any)        dbSNP  HGVS NM HGVS NP  \\\n",
       "0  34393998      Africa                 Tunisia     rs1800574     NaN     NaN   \n",
       "1  34393998      Africa                 Tunisia  rs1172328722     NaN     NaN   \n",
       "2  34393998      Africa                 Tunisia           NaN     NaN     NaN   \n",
       "3  34373539   East Asia                  Kuwait   rs587776825     NaN     NaN   \n",
       "4  34373539         NaN                     NaN           NaN     NaN     NaN   \n",
       "\n",
       "  Nucleotide Change Protein Change                Ref  Alt Frequency (Ref)  \\\n",
       "0          c.710A>G            NaN                  C    T          0.9906   \n",
       "1          c.476G>A            NaN                  G    A               1   \n",
       "2          c.710A>G            NaN                NaN  NaN             NaN   \n",
       "3         c.872dupC            NaN  duplication event  NaN               1   \n",
       "4          c.8C > A            NaN                NaN  NaN             NaN   \n",
       "\n",
       "  Frequency (Alt) Additional Comments Curator Unnamed: 14 Unnamed: 15  \\\n",
       "0          0.0094                 NaN  Rachna         NaN         NaN   \n",
       "1               0                 NaN  Rachna         NaN         NaN   \n",
       "2             NaN     rs id not found  Rachna         NaN         NaN   \n",
       "3               0                 NaN  Rachna         NaN         NaN   \n",
       "4             NaN     rs id not found  Rachna         NaN         NaN   \n",
       "\n",
       "  Unnamed: 16 Unnamed: 17  \n",
       "0         NaN         NaN  \n",
       "1         NaN         NaN  \n",
       "2         NaN         NaN  \n",
       "3         NaN         NaN  \n",
       "4         NaN         NaN  "
      ]
     },
     "execution_count": 24,
     "metadata": {},
     "output_type": "execute_result"
    }
   ],
   "source": [
    "import pandas as pd\n",
    "data = pd.read_csv(\"input_hnf1a_data.csv\")\n",
    "data.head()"
   ]
  },
  {
   "cell_type": "code",
   "execution_count": 18,
   "metadata": {
    "kernel": "Python3"
   },
   "outputs": [
    {
     "name": "stdout",
     "output_type": "stream",
     "text": [
      "(635, 18)\n"
     ]
    }
   ],
   "source": [
    "print(data.shape)"
   ]
  },
  {
   "cell_type": "code",
   "execution_count": 19,
   "metadata": {
    "kernel": "Python3",
    "scrolled": true
   },
   "outputs": [
    {
     "data": {
      "text/html": [
       "<div>\n",
       "<style scoped>\n",
       "    .dataframe tbody tr th:only-of-type {\n",
       "        vertical-align: middle;\n",
       "    }\n",
       "\n",
       "    .dataframe tbody tr th {\n",
       "        vertical-align: top;\n",
       "    }\n",
       "\n",
       "    .dataframe thead th {\n",
       "        text-align: right;\n",
       "    }\n",
       "</style>\n",
       "<table border=\"1\" class=\"dataframe\">\n",
       "  <thead>\n",
       "    <tr style=\"text-align: right;\">\n",
       "      <th></th>\n",
       "      <th>PubMed ID</th>\n",
       "      <th>Population</th>\n",
       "      <th>Sub-Population (if any)</th>\n",
       "      <th>dbSNP</th>\n",
       "      <th>HGVS NM</th>\n",
       "      <th>HGVS NP</th>\n",
       "      <th>Nucleotide Change</th>\n",
       "      <th>Protein Change</th>\n",
       "      <th>Ref</th>\n",
       "      <th>Alt</th>\n",
       "      <th>Frequency (Ref)</th>\n",
       "      <th>Frequency (Alt)</th>\n",
       "      <th>Additional Comments</th>\n",
       "      <th>Curator</th>\n",
       "      <th>Unnamed: 14</th>\n",
       "      <th>Unnamed: 15</th>\n",
       "      <th>Unnamed: 16</th>\n",
       "      <th>Unnamed: 17</th>\n",
       "    </tr>\n",
       "  </thead>\n",
       "  <tbody>\n",
       "    <tr>\n",
       "      <th>count</th>\n",
       "      <td>603</td>\n",
       "      <td>577</td>\n",
       "      <td>521</td>\n",
       "      <td>338</td>\n",
       "      <td>147</td>\n",
       "      <td>89</td>\n",
       "      <td>78</td>\n",
       "      <td>511</td>\n",
       "      <td>305</td>\n",
       "      <td>299</td>\n",
       "      <td>309</td>\n",
       "      <td>308</td>\n",
       "      <td>219</td>\n",
       "      <td>594</td>\n",
       "      <td>6</td>\n",
       "      <td>6</td>\n",
       "      <td>1</td>\n",
       "      <td>1</td>\n",
       "    </tr>\n",
       "    <tr>\n",
       "      <th>unique</th>\n",
       "      <td>204</td>\n",
       "      <td>38</td>\n",
       "      <td>86</td>\n",
       "      <td>161</td>\n",
       "      <td>110</td>\n",
       "      <td>74</td>\n",
       "      <td>72</td>\n",
       "      <td>334</td>\n",
       "      <td>20</td>\n",
       "      <td>30</td>\n",
       "      <td>112</td>\n",
       "      <td>119</td>\n",
       "      <td>55</td>\n",
       "      <td>20</td>\n",
       "      <td>3</td>\n",
       "      <td>1</td>\n",
       "      <td>1</td>\n",
       "      <td>1</td>\n",
       "    </tr>\n",
       "    <tr>\n",
       "      <th>top</th>\n",
       "      <td>18003757</td>\n",
       "      <td>Europe</td>\n",
       "      <td>Paris</td>\n",
       "      <td>rs587776825</td>\n",
       "      <td>NM 000545</td>\n",
       "      <td>NP_000563</td>\n",
       "      <td>c.872dupC</td>\n",
       "      <td>I27L</td>\n",
       "      <td>C</td>\n",
       "      <td>A</td>\n",
       "      <td>1</td>\n",
       "      <td>0</td>\n",
       "      <td>rs id not found</td>\n",
       "      <td>Sophie</td>\n",
       "      <td>Chukwu_emeliela</td>\n",
       "      <td>Chukwu_emeliela</td>\n",
       "      <td>Chukwu_emeliela</td>\n",
       "      <td>Chukwu_emeliela</td>\n",
       "    </tr>\n",
       "    <tr>\n",
       "      <th>freq</th>\n",
       "      <td>56</td>\n",
       "      <td>319</td>\n",
       "      <td>47</td>\n",
       "      <td>22</td>\n",
       "      <td>6</td>\n",
       "      <td>7</td>\n",
       "      <td>3</td>\n",
       "      <td>13</td>\n",
       "      <td>120</td>\n",
       "      <td>84</td>\n",
       "      <td>118</td>\n",
       "      <td>116</td>\n",
       "      <td>49</td>\n",
       "      <td>124</td>\n",
       "      <td>4</td>\n",
       "      <td>6</td>\n",
       "      <td>1</td>\n",
       "      <td>1</td>\n",
       "    </tr>\n",
       "  </tbody>\n",
       "</table>\n",
       "</div>"
      ],
      "text/plain": [
       "       PubMed ID Population  Sub-Population (if any)       dbSNP     HGVS NM  \\\n",
       "count        603         577                     521          338        147   \n",
       "unique       204          38                      86          161        110   \n",
       "top     18003757      Europe                   Paris  rs587776825  NM 000545   \n",
       "freq          56         319                      47           22          6   \n",
       "\n",
       "          HGVS NP Nucleotide Change Protein Change  Ref  Alt Frequency (Ref)  \\\n",
       "count          89                78            511  305  299             309   \n",
       "unique         74                72            334   20   30             112   \n",
       "top     NP_000563         c.872dupC           I27L    C    A               1   \n",
       "freq            7                 3             13  120   84             118   \n",
       "\n",
       "       Frequency (Alt) Additional Comments Curator      Unnamed: 14  \\\n",
       "count              308                 219     594                6   \n",
       "unique             119                  55      20                3   \n",
       "top                  0     rs id not found  Sophie  Chukwu_emeliela   \n",
       "freq               116                  49     124                4   \n",
       "\n",
       "            Unnamed: 15      Unnamed: 16      Unnamed: 17  \n",
       "count                 6                1                1  \n",
       "unique                1                1                1  \n",
       "top     Chukwu_emeliela  Chukwu_emeliela  Chukwu_emeliela  \n",
       "freq                  6                1                1  "
      ]
     },
     "execution_count": 19,
     "metadata": {},
     "output_type": "execute_result"
    }
   ],
   "source": [
    "data.describe()"
   ]
  },
  {
   "cell_type": "code",
   "execution_count": 28,
   "metadata": {
    "kernel": "Python3"
   },
   "outputs": [
    {
     "name": "stdout",
     "output_type": "stream",
     "text": [
      "<class 'pandas.core.frame.DataFrame'>\n",
      "RangeIndex: 635 entries, 0 to 634\n",
      "Data columns (total 18 columns):\n",
      " #   Column                   Non-Null Count  Dtype \n",
      "---  ------                   --------------  ----- \n",
      " 0   PubMed ID                603 non-null    object\n",
      " 1   Population               577 non-null    object\n",
      " 2   Sub-Population (if any)  521 non-null    object\n",
      " 3   dbSNP                    338 non-null    object\n",
      " 4   HGVS NM                  147 non-null    object\n",
      " 5   HGVS NP                  89 non-null     object\n",
      " 6   Nucleotide Change        78 non-null     object\n",
      " 7   Protein Change           511 non-null    object\n",
      " 8   Ref                      305 non-null    object\n",
      " 9   Alt                      299 non-null    object\n",
      " 10  Frequency (Ref)          309 non-null    object\n",
      " 11  Frequency (Alt)          308 non-null    object\n",
      " 12  Additional Comments      219 non-null    object\n",
      " 13  Curator                  594 non-null    object\n",
      " 14  Unnamed: 14              6 non-null      object\n",
      " 15  Unnamed: 15              6 non-null      object\n",
      " 16  Unnamed: 16              1 non-null      object\n",
      " 17  Unnamed: 17              1 non-null      object\n",
      "dtypes: object(18)\n",
      "memory usage: 89.4+ KB\n"
     ]
    }
   ],
   "source": [
    "#Info of dataframe where we can see what kind of data does the column contains.\n",
    "data.info()"
   ]
  },
  {
   "cell_type": "code",
   "execution_count": 37,
   "metadata": {
    "kernel": "Python3"
   },
   "outputs": [],
   "source": [
    "list = ['Unnamed: 17','Unnamed: 16', 'Unnamed: 15', 'Unnamed: 14', 'Nucleotide Change', 'HGVS NP', 'HGVS NM', 'Additional Comments', 'PubMed ID', 'Curator', \n",
    "        'Sub-Population (if any)', 'Protein Change' ]\n",
    "x = data.drop(list,axis = 1 )"
   ]
  },
  {
   "cell_type": "code",
   "execution_count": 38,
   "metadata": {
    "kernel": "Python3"
   },
   "outputs": [
    {
     "data": {
      "text/html": [
       "<div>\n",
       "<style scoped>\n",
       "    .dataframe tbody tr th:only-of-type {\n",
       "        vertical-align: middle;\n",
       "    }\n",
       "\n",
       "    .dataframe tbody tr th {\n",
       "        vertical-align: top;\n",
       "    }\n",
       "\n",
       "    .dataframe thead th {\n",
       "        text-align: right;\n",
       "    }\n",
       "</style>\n",
       "<table border=\"1\" class=\"dataframe\">\n",
       "  <thead>\n",
       "    <tr style=\"text-align: right;\">\n",
       "      <th></th>\n",
       "      <th>Population</th>\n",
       "      <th>dbSNP</th>\n",
       "      <th>Ref</th>\n",
       "      <th>Alt</th>\n",
       "      <th>Frequency (Ref)</th>\n",
       "      <th>Frequency (Alt)</th>\n",
       "    </tr>\n",
       "  </thead>\n",
       "  <tbody>\n",
       "    <tr>\n",
       "      <th>0</th>\n",
       "      <td>Africa</td>\n",
       "      <td>rs1800574</td>\n",
       "      <td>C</td>\n",
       "      <td>T</td>\n",
       "      <td>0.9906</td>\n",
       "      <td>0.0094</td>\n",
       "    </tr>\n",
       "    <tr>\n",
       "      <th>1</th>\n",
       "      <td>Africa</td>\n",
       "      <td>rs1172328722</td>\n",
       "      <td>G</td>\n",
       "      <td>A</td>\n",
       "      <td>1</td>\n",
       "      <td>0</td>\n",
       "    </tr>\n",
       "    <tr>\n",
       "      <th>2</th>\n",
       "      <td>Africa</td>\n",
       "      <td>NaN</td>\n",
       "      <td>NaN</td>\n",
       "      <td>NaN</td>\n",
       "      <td>NaN</td>\n",
       "      <td>NaN</td>\n",
       "    </tr>\n",
       "    <tr>\n",
       "      <th>3</th>\n",
       "      <td>East Asia</td>\n",
       "      <td>rs587776825</td>\n",
       "      <td>duplication event</td>\n",
       "      <td>NaN</td>\n",
       "      <td>1</td>\n",
       "      <td>0</td>\n",
       "    </tr>\n",
       "    <tr>\n",
       "      <th>4</th>\n",
       "      <td>NaN</td>\n",
       "      <td>NaN</td>\n",
       "      <td>NaN</td>\n",
       "      <td>NaN</td>\n",
       "      <td>NaN</td>\n",
       "      <td>NaN</td>\n",
       "    </tr>\n",
       "    <tr>\n",
       "      <th>...</th>\n",
       "      <td>...</td>\n",
       "      <td>...</td>\n",
       "      <td>...</td>\n",
       "      <td>...</td>\n",
       "      <td>...</td>\n",
       "      <td>...</td>\n",
       "    </tr>\n",
       "    <tr>\n",
       "      <th>630</th>\n",
       "      <td>Other</td>\n",
       "      <td>NaN</td>\n",
       "      <td>G</td>\n",
       "      <td>A</td>\n",
       "      <td>1</td>\n",
       "      <td>0</td>\n",
       "    </tr>\n",
       "    <tr>\n",
       "      <th>631</th>\n",
       "      <td>NaN</td>\n",
       "      <td>NaN</td>\n",
       "      <td>NaN</td>\n",
       "      <td>NaN</td>\n",
       "      <td>NaN</td>\n",
       "      <td>NaN</td>\n",
       "    </tr>\n",
       "    <tr>\n",
       "      <th>632</th>\n",
       "      <td>Europe</td>\n",
       "      <td>NaN</td>\n",
       "      <td>C</td>\n",
       "      <td>T</td>\n",
       "      <td>1</td>\n",
       "      <td>0</td>\n",
       "    </tr>\n",
       "    <tr>\n",
       "      <th>633</th>\n",
       "      <td>African America</td>\n",
       "      <td>NaN</td>\n",
       "      <td>G</td>\n",
       "      <td>C</td>\n",
       "      <td>0.9972</td>\n",
       "      <td>0.0028</td>\n",
       "    </tr>\n",
       "    <tr>\n",
       "      <th>634</th>\n",
       "      <td>Latin America</td>\n",
       "      <td>NaN</td>\n",
       "      <td>G</td>\n",
       "      <td>A</td>\n",
       "      <td>1</td>\n",
       "      <td>0</td>\n",
       "    </tr>\n",
       "  </tbody>\n",
       "</table>\n",
       "<p>635 rows × 6 columns</p>\n",
       "</div>"
      ],
      "text/plain": [
       "         Population         dbSNP                 Ref  Alt Frequency (Ref)  \\\n",
       "0             Africa     rs1800574                  C    T          0.9906   \n",
       "1             Africa  rs1172328722                  G    A               1   \n",
       "2             Africa           NaN                NaN  NaN             NaN   \n",
       "3          East Asia   rs587776825  duplication event  NaN               1   \n",
       "4                NaN           NaN                NaN  NaN             NaN   \n",
       "..               ...           ...                ...  ...             ...   \n",
       "630            Other           NaN                  G    A               1   \n",
       "631              NaN           NaN                NaN  NaN             NaN   \n",
       "632           Europe           NaN                  C    T               1   \n",
       "633  African America           NaN                  G    C          0.9972   \n",
       "634    Latin America           NaN                  G    A               1   \n",
       "\n",
       "    Frequency (Alt)  \n",
       "0            0.0094  \n",
       "1                 0  \n",
       "2               NaN  \n",
       "3                 0  \n",
       "4               NaN  \n",
       "..              ...  \n",
       "630               0  \n",
       "631             NaN  \n",
       "632               0  \n",
       "633          0.0028  \n",
       "634               0  \n",
       "\n",
       "[635 rows x 6 columns]"
      ]
     },
     "execution_count": 38,
     "metadata": {},
     "output_type": "execute_result"
    }
   ],
   "source": [
    "x"
   ]
  },
  {
   "cell_type": "code",
   "execution_count": 39,
   "metadata": {
    "kernel": "Python3"
   },
   "outputs": [
    {
     "name": "stdout",
     "output_type": "stream",
     "text": [
      "Alt                52.91\n",
      "Ref                51.97\n",
      "Frequency (Alt)    51.50\n",
      "Frequency (Ref)    51.34\n",
      "dbSNP              46.77\n",
      "Population          9.13\n",
      "dtype: float64\n"
     ]
    }
   ],
   "source": [
    "def missing(dff):\n",
    "    print (round((dff.isnull().sum() * 100/ len(dff)),2).sort_values(ascending=False))\n",
    "\n",
    "\n",
    "missing(x)"
   ]
  },
  {
   "cell_type": "code",
   "execution_count": 47,
   "metadata": {
    "kernel": "Python3"
   },
   "outputs": [],
   "source": [
    "x.dropna(inplace=True)"
   ]
  },
  {
   "cell_type": "code",
   "execution_count": 48,
   "metadata": {
    "kernel": "Python3",
    "scrolled": false
   },
   "outputs": [
    {
     "data": {
      "text/html": [
       "<div>\n",
       "<style scoped>\n",
       "    .dataframe tbody tr th:only-of-type {\n",
       "        vertical-align: middle;\n",
       "    }\n",
       "\n",
       "    .dataframe tbody tr th {\n",
       "        vertical-align: top;\n",
       "    }\n",
       "\n",
       "    .dataframe thead th {\n",
       "        text-align: right;\n",
       "    }\n",
       "</style>\n",
       "<table border=\"1\" class=\"dataframe\">\n",
       "  <thead>\n",
       "    <tr style=\"text-align: right;\">\n",
       "      <th></th>\n",
       "      <th>Population</th>\n",
       "      <th>dbSNP</th>\n",
       "      <th>Ref</th>\n",
       "      <th>Alt</th>\n",
       "      <th>Frequency (Ref)</th>\n",
       "      <th>Frequency (Alt)</th>\n",
       "    </tr>\n",
       "  </thead>\n",
       "  <tbody>\n",
       "    <tr>\n",
       "      <th>0</th>\n",
       "      <td>Africa</td>\n",
       "      <td>rs1800574</td>\n",
       "      <td>C</td>\n",
       "      <td>T</td>\n",
       "      <td>0.9906</td>\n",
       "      <td>0.0094</td>\n",
       "    </tr>\n",
       "    <tr>\n",
       "      <th>1</th>\n",
       "      <td>Africa</td>\n",
       "      <td>rs1172328722</td>\n",
       "      <td>G</td>\n",
       "      <td>A</td>\n",
       "      <td>1</td>\n",
       "      <td>0</td>\n",
       "    </tr>\n",
       "    <tr>\n",
       "      <th>5</th>\n",
       "      <td>Europe</td>\n",
       "      <td>rs193922606</td>\n",
       "      <td>C</td>\n",
       "      <td>G</td>\n",
       "      <td>0.99994</td>\n",
       "      <td>0</td>\n",
       "    </tr>\n",
       "    <tr>\n",
       "      <th>7</th>\n",
       "      <td>Europe</td>\n",
       "      <td>rs769086289</td>\n",
       "      <td>C</td>\n",
       "      <td>T</td>\n",
       "      <td>1</td>\n",
       "      <td>0</td>\n",
       "    </tr>\n",
       "    <tr>\n",
       "      <th>8</th>\n",
       "      <td>Asia</td>\n",
       "      <td>rs193922585</td>\n",
       "      <td>G</td>\n",
       "      <td>A</td>\n",
       "      <td>1</td>\n",
       "      <td>0</td>\n",
       "    </tr>\n",
       "    <tr>\n",
       "      <th>...</th>\n",
       "      <td>...</td>\n",
       "      <td>...</td>\n",
       "      <td>...</td>\n",
       "      <td>...</td>\n",
       "      <td>...</td>\n",
       "      <td>...</td>\n",
       "    </tr>\n",
       "    <tr>\n",
       "      <th>618</th>\n",
       "      <td>Europe</td>\n",
       "      <td>rs1555212014</td>\n",
       "      <td>C</td>\n",
       "      <td>T</td>\n",
       "      <td>1</td>\n",
       "      <td>0</td>\n",
       "    </tr>\n",
       "    <tr>\n",
       "      <th>619</th>\n",
       "      <td>Europe</td>\n",
       "      <td>rs121917707</td>\n",
       "      <td>G</td>\n",
       "      <td>A</td>\n",
       "      <td>1</td>\n",
       "      <td>0</td>\n",
       "    </tr>\n",
       "    <tr>\n",
       "      <th>620</th>\n",
       "      <td>Europe</td>\n",
       "      <td>rs202039659</td>\n",
       "      <td>A</td>\n",
       "      <td>G</td>\n",
       "      <td>0.999493</td>\n",
       "      <td>0.000507</td>\n",
       "    </tr>\n",
       "    <tr>\n",
       "      <th>622</th>\n",
       "      <td>Europe</td>\n",
       "      <td>rs137853243</td>\n",
       "      <td>C</td>\n",
       "      <td>T</td>\n",
       "      <td>0.999993</td>\n",
       "      <td>7E-06</td>\n",
       "    </tr>\n",
       "    <tr>\n",
       "      <th>623</th>\n",
       "      <td>Europe</td>\n",
       "      <td>rs1800574</td>\n",
       "      <td>C</td>\n",
       "      <td>T</td>\n",
       "      <td>0.970447</td>\n",
       "      <td>0.029553</td>\n",
       "    </tr>\n",
       "  </tbody>\n",
       "</table>\n",
       "<p>253 rows × 6 columns</p>\n",
       "</div>"
      ],
      "text/plain": [
       "    Population         dbSNP  Ref Alt Frequency (Ref) Frequency (Alt)\n",
       "0        Africa     rs1800574   C   T          0.9906          0.0094\n",
       "1        Africa  rs1172328722   G   A               1               0\n",
       "5        Europe   rs193922606   C   G         0.99994               0\n",
       "7        Europe   rs769086289   C   T               1               0\n",
       "8          Asia   rs193922585   G   A               1               0\n",
       "..          ...           ...  ..  ..             ...             ...\n",
       "618      Europe  rs1555212014   C   T               1               0\n",
       "619      Europe   rs121917707   G   A               1               0\n",
       "620      Europe   rs202039659   A   G        0.999493        0.000507\n",
       "622      Europe   rs137853243   C   T        0.999993           7E-06\n",
       "623      Europe     rs1800574   C   T        0.970447        0.029553\n",
       "\n",
       "[253 rows x 6 columns]"
      ]
     },
     "execution_count": 48,
     "metadata": {},
     "output_type": "execute_result"
    }
   ],
   "source": [
    "x"
   ]
  },
  {
   "cell_type": "code",
   "execution_count": 8,
   "metadata": {
    "kernel": "Python3"
   },
   "outputs": [
    {
     "data": {
      "text/html": [
       "<div>\n",
       "<style scoped>\n",
       "    .dataframe tbody tr th:only-of-type {\n",
       "        vertical-align: middle;\n",
       "    }\n",
       "\n",
       "    .dataframe tbody tr th {\n",
       "        vertical-align: top;\n",
       "    }\n",
       "\n",
       "    .dataframe thead th {\n",
       "        text-align: right;\n",
       "    }\n",
       "</style>\n",
       "<table border=\"1\" class=\"dataframe\">\n",
       "  <thead>\n",
       "    <tr style=\"text-align: right;\">\n",
       "      <th></th>\n",
       "      <th>Population</th>\n",
       "      <th>dbSNP</th>\n",
       "      <th>Ref</th>\n",
       "      <th>Alt</th>\n",
       "      <th>Frequency (Ref)</th>\n",
       "      <th>Frequency (Alt)</th>\n",
       "    </tr>\n",
       "  </thead>\n",
       "  <tbody>\n",
       "    <tr>\n",
       "      <th>0</th>\n",
       "      <td>Africa</td>\n",
       "      <td>rs1800574</td>\n",
       "      <td>C</td>\n",
       "      <td>T</td>\n",
       "      <td>0.9906</td>\n",
       "      <td>0.0094</td>\n",
       "    </tr>\n",
       "    <tr>\n",
       "      <th>1</th>\n",
       "      <td>Africa</td>\n",
       "      <td>rs1172328722</td>\n",
       "      <td>G</td>\n",
       "      <td>A</td>\n",
       "      <td>1</td>\n",
       "      <td>0</td>\n",
       "    </tr>\n",
       "    <tr>\n",
       "      <th>2</th>\n",
       "      <td>Europe</td>\n",
       "      <td>rs193922606</td>\n",
       "      <td>C</td>\n",
       "      <td>G</td>\n",
       "      <td>0.99994</td>\n",
       "      <td>0</td>\n",
       "    </tr>\n",
       "    <tr>\n",
       "      <th>3</th>\n",
       "      <td>Europe</td>\n",
       "      <td>rs769086289</td>\n",
       "      <td>C</td>\n",
       "      <td>T</td>\n",
       "      <td>1</td>\n",
       "      <td>0</td>\n",
       "    </tr>\n",
       "    <tr>\n",
       "      <th>4</th>\n",
       "      <td>Asia</td>\n",
       "      <td>rs193922585</td>\n",
       "      <td>G</td>\n",
       "      <td>A</td>\n",
       "      <td>1</td>\n",
       "      <td>0</td>\n",
       "    </tr>\n",
       "  </tbody>\n",
       "</table>\n",
       "</div>"
      ],
      "text/plain": [
       "  Population         dbSNP  Ref Alt Frequency (Ref) Frequency (Alt)\n",
       "0      Africa     rs1800574   C   T          0.9906          0.0094\n",
       "1      Africa  rs1172328722   G   A               1               0\n",
       "2      Europe   rs193922606   C   G         0.99994               0\n",
       "3      Europe   rs769086289   C   T               1               0\n",
       "4        Asia   rs193922585   G   A               1               0"
      ]
     },
     "execution_count": 8,
     "metadata": {},
     "output_type": "execute_result"
    }
   ],
   "source": [
    "import pandas as pd\n",
    "x = pd.read_csv(\"file_name.csv\")\n",
    "x.head()"
   ]
  },
  {
   "cell_type": "code",
   "execution_count": 9,
   "metadata": {
    "kernel": "Python3",
    "scrolled": true
   },
   "outputs": [
    {
     "name": "stdout",
     "output_type": "stream",
     "text": [
      "Population \n",
      "dbSNP \n",
      "Ref\n",
      "Alt\n",
      "Frequency (Ref)\n",
      "Frequency (Alt)\n"
     ]
    }
   ],
   "source": [
    "for col in x.columns:\n",
    "    print(col)"
   ]
  },
  {
   "cell_type": "code",
   "execution_count": 16,
   "metadata": {
    "kernel": "Python3",
    "scrolled": true
   },
   "outputs": [
    {
     "name": "stdout",
     "output_type": "stream",
     "text": [
      "<class 'pandas.core.frame.DataFrame'>\n",
      "RangeIndex: 253 entries, 0 to 252\n",
      "Data columns (total 6 columns):\n",
      " #   Column           Non-Null Count  Dtype \n",
      "---  ------           --------------  ----- \n",
      " 0   Population       253 non-null    object\n",
      " 1   dbSNP            253 non-null    object\n",
      " 2   Ref              253 non-null    object\n",
      " 3   Alt              253 non-null    object\n",
      " 4   Frequency (Ref)  253 non-null    object\n",
      " 5   Frequency (Alt)  253 non-null    object\n",
      "dtypes: object(6)\n",
      "memory usage: 12.0+ KB\n"
     ]
    }
   ],
   "source": [
    "x.info()"
   ]
  },
  {
   "cell_type": "code",
   "execution_count": 29,
   "metadata": {
    "kernel": "Python3"
   },
   "outputs": [
    {
     "data": {
      "text/plain": [
       "array(['Africa', 'Europe', 'Asia', 'North America', 'South America',\n",
       "       'Australia'], dtype=object)"
      ]
     },
     "execution_count": 29,
     "metadata": {},
     "output_type": "execute_result"
    }
   ],
   "source": [
    "x['Population '].unique()"
   ]
  },
  {
   "cell_type": "code",
   "execution_count": 58,
   "metadata": {
    "kernel": "Python3",
    "scrolled": true
   },
   "outputs": [
    {
     "data": {
      "image/png": "[encoded data removed]",
      "text/plain": [
       "<Figure size 432x288 with 1 Axes>"
      ]
     },
     "metadata": {
      "needs_background": "light"
     },
     "output_type": "display_data"
    }
   ],
   "source": [
    "import seaborn as sns\n",
    "\n",
    "ax = sns.countplot(x ='Population ', data = x)      \n"
   ]
  },
  {
   "cell_type": "code",
   "execution_count": 77,
   "metadata": {
    "kernel": "Python3"
   },
   "outputs": [],
   "source": [
    "x['Frequency (Ref)'] = pd.to_numeric(x['Frequency (Ref)'],errors = 'coerce')"
   ]
  },
  {
   "cell_type": "code",
   "execution_count": 78,
   "metadata": {
    "kernel": "Python3"
   },
   "outputs": [],
   "source": [
    "x['Frequency (Alt)'] = pd.to_numeric(x['Frequency (Alt)'],errors = 'coerce')"
   ]
  },
  {
   "cell_type": "code",
   "execution_count": 80,
   "metadata": {
    "kernel": "Python3"
   },
   "outputs": [
    {
     "name": "stdout",
     "output_type": "stream",
     "text": [
      "<class 'pandas.core.frame.DataFrame'>\n",
      "RangeIndex: 253 entries, 0 to 252\n",
      "Data columns (total 6 columns):\n",
      " #   Column           Non-Null Count  Dtype  \n",
      "---  ------           --------------  -----  \n",
      " 0   Population       253 non-null    object \n",
      " 1   dbSNP            253 non-null    object \n",
      " 2   Ref              253 non-null    object \n",
      " 3   Alt              253 non-null    object \n",
      " 4   Frequency (Ref)  230 non-null    float64\n",
      " 5   Frequency (Alt)  209 non-null    float64\n",
      "dtypes: float64(2), object(4)\n",
      "memory usage: 12.0+ KB\n"
     ]
    }
   ],
   "source": [
    "x.info()"
   ]
  },
  {
   "cell_type": "code",
   "execution_count": 82,
   "metadata": {
    "kernel": "Python3"
   },
   "outputs": [
    {
     "data": {
      "image/png": "[encoded data removed]",
      "text/plain": [
       "<Figure size 1080x1080 with 2 Axes>"
      ]
     },
     "metadata": {
      "needs_background": "light"
     },
     "output_type": "display_data"
    }
   ],
   "source": [
    "# Heatmap for cols\n",
    "\n",
    "lcol = ['Frequency (Ref)', 'Frequency (Alt)']\n",
    "plt.figure(figsize=(15,15))\n",
    "sns.heatmap(x[lcol].corr(),annot = True, cmap = 'Blues');\n",
    "plt.show()"
   ]
  },
  {
   "cell_type": "code",
   "execution_count": 97,
   "metadata": {
    "kernel": "Python3"
   },
   "outputs": [
    {
     "data": {
      "image/png": "[encoded data removed]",
      "text/plain": [
       "<Figure size 360x360 with 6 Axes>"
      ]
     },
     "metadata": {
      "needs_background": "light"
     },
     "output_type": "display_data"
    }
   ],
   "source": [
    "# pairplot for mean cols\n",
    "sns.pairplot(x[lcol], palette='Blues')\n",
    "plt.show()"
   ]
  },
  {
   "cell_type": "code",
   "execution_count": null,
   "metadata": {
    "kernel": "Python3"
   },
   "outputs": [],
   "source": []
  }
 ],
 "metadata": {
  "kernelspec": {
   "display_name": "Pollyglot",
   "language": "sos",
   "name": "sos"
  },
  "language_info": {
   "codemirror_mode": "sos",
   "file_extension": ".sos",
   "mimetype": "text/x-sos",
   "name": "sos",
   "nbconvert_exporter": "sos_notebook.converter.SoS_Exporter",
   "pygments_lexer": "sos"
  },
  "sos": {
   "kernels": [
    [
     "Bash",
     "bash",
     "Bash",
     "#E6EEFF",
     "shell"
    ],
    [
     "Python3",
     "python3",
     "Python3",
     "#FFD91A",
     {
      "name": "ipython",
      "version": 3
     }
    ]
   ],
   "panel": {
    "displayed": true,
    "height": 0
   },
   "version": "1.0.0"
  }
 },
 "nbformat": 4,
 "nbformat_minor": 2
}
